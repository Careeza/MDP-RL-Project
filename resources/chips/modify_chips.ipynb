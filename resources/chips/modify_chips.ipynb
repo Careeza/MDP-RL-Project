{
 "cells": [
  {
   "cell_type": "code",
   "execution_count": 1,
   "metadata": {},
   "outputs": [],
   "source": [
    "import numpy as np"
   ]
  },
  {
   "cell_type": "code",
   "execution_count": 13,
   "metadata": {},
   "outputs": [
    {
     "name": "stdout",
     "output_type": "stream",
     "text": [
      "(72, 64, 3)\n",
      "(72, 64, 3)\n",
      "(72, 64, 3)\n",
      "(72, 64, 3)\n",
      "(72, 64, 3)\n",
      "(72, 64, 3)\n",
      "(72, 64, 3)\n",
      "(72, 64, 3)\n",
      "(72, 64, 3)\n",
      "(72, 64, 3)\n",
      "(144, 320, 3)\n"
     ]
    }
   ],
   "source": [
    "# open the file chips.png\n",
    "# the file contains 2 line of 5 chips\n",
    "# each chip is a 64x72 square of pixels\n",
    "# split the chips and save them as png files\n",
    "\n",
    "from PIL import Image\n",
    "\n",
    "def split_chip(chip, i):\n",
    "\timg = Image.fromarray(chip)\n",
    "\timg.save(f\"chip_{i}.png\")\n",
    "\n",
    "chips = Image.open(\"chips.png\")\n",
    "chips = np.array(chips)\n",
    "chips_value = [1, 5, 25, 50, 100, 500, 1000, 5000, 25000, 50000]\n",
    "\n",
    "for i in range(2):\n",
    "\tfor j in range(5):\n",
    "\t\tprint(chips[i * 72: (i + 1) * 72, 64 * j : (j + 1) * 64].shape)\n",
    "\t\tsplit_chip(chips[i * 72: (i + 1) * 72, 64 * j : (j + 1) * 64], chips_value[i * 5 + j])\n",
    "print(chips.shape)\n"
   ]
  },
  {
   "cell_type": "code",
   "execution_count": null,
   "metadata": {},
   "outputs": [
    {
     "data": {
      "text/plain": [
       "5.0"
      ]
     },
     "execution_count": 4,
     "metadata": {},
     "output_type": "execute_result"
    }
   ],
   "source": []
  },
  {
   "cell_type": "code",
   "execution_count": null,
   "metadata": {},
   "outputs": [],
   "source": []
  }
 ],
 "metadata": {
  "kernelspec": {
   "display_name": "musicSeparation",
   "language": "python",
   "name": "python3"
  },
  "language_info": {
   "codemirror_mode": {
    "name": "ipython",
    "version": 3
   },
   "file_extension": ".py",
   "mimetype": "text/x-python",
   "name": "python",
   "nbconvert_exporter": "python",
   "pygments_lexer": "ipython3",
   "version": "3.8.15"
  }
 },
 "nbformat": 4,
 "nbformat_minor": 2
}
